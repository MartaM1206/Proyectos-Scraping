{
 "cells": [
  {
   "cell_type": "code",
   "execution_count": 1,
   "metadata": {},
   "outputs": [
    {
     "data": {
      "text/html": [
       "<div>\n",
       "<style scoped>\n",
       "    .dataframe tbody tr th:only-of-type {\n",
       "        vertical-align: middle;\n",
       "    }\n",
       "\n",
       "    .dataframe tbody tr th {\n",
       "        vertical-align: top;\n",
       "    }\n",
       "\n",
       "    .dataframe thead th {\n",
       "        text-align: right;\n",
       "    }\n",
       "</style>\n",
       "<table border=\"1\" class=\"dataframe\">\n",
       "  <thead>\n",
       "    <tr style=\"text-align: right;\">\n",
       "      <th></th>\n",
       "      <th>Title</th>\n",
       "      <th>Price</th>\n",
       "      <th>Sales</th>\n",
       "    </tr>\n",
       "  </thead>\n",
       "  <tbody>\n",
       "    <tr>\n",
       "      <th>9512</th>\n",
       "      <td>Harry Potter Taza Taza Slytherin Cresta Hechic...</td>\n",
       "      <td>12,68 EUR</td>\n",
       "      <td>NaN</td>\n",
       "    </tr>\n",
       "    <tr>\n",
       "      <th>9261</th>\n",
       "      <td>Harry Potter Calcetines Calendario de Adviento...</td>\n",
       "      <td>16,13 EUR</td>\n",
       "      <td>NaN</td>\n",
       "    </tr>\n",
       "    <tr>\n",
       "      <th>8224</th>\n",
       "      <td>•Harry Potter •Toyllectible Fawkes •The Noble ...</td>\n",
       "      <td>29,73 EUR</td>\n",
       "      <td>NaN</td>\n",
       "    </tr>\n",
       "    <tr>\n",
       "      <th>6515</th>\n",
       "      <td>Gorro gris Harry Potter 'Slytherin' talla únic...</td>\n",
       "      <td>15,82 EUR</td>\n",
       "      <td>NaN</td>\n",
       "    </tr>\n",
       "    <tr>\n",
       "      <th>4657</th>\n",
       "      <td>Prendedor giratorio oficial universal para som...</td>\n",
       "      <td>28,82 EUR</td>\n",
       "      <td>NaN</td>\n",
       "    </tr>\n",
       "    <tr>\n",
       "      <th>3973</th>\n",
       "      <td>Harry Potter Collar Pendientes Schnatz Inverso...</td>\n",
       "      <td>11,14 EUR</td>\n",
       "      <td>NaN</td>\n",
       "    </tr>\n",
       "    <tr>\n",
       "      <th>4416</th>\n",
       "      <td>Manta de tapiz con flecos Warner Bros. Harry P...</td>\n",
       "      <td>20,69 EUR</td>\n",
       "      <td>NaN</td>\n",
       "    </tr>\n",
       "    <tr>\n",
       "      <th>3011</th>\n",
       "      <td>\"Almohada de peluche Warner Brothers Harry Pot...</td>\n",
       "      <td>16,14 EUR</td>\n",
       "      <td>NaN</td>\n",
       "    </tr>\n",
       "    <tr>\n",
       "      <th>6922</th>\n",
       "      <td>Harry Potter Deluxe Varita Rubíes 2017 - Funci...</td>\n",
       "      <td>13,83 EUR</td>\n",
       "      <td>NaN</td>\n",
       "    </tr>\n",
       "    <tr>\n",
       "      <th>3641</th>\n",
       "      <td>Taza/taza de café vintage 2000 Hallmark Harry ...</td>\n",
       "      <td>17,23 EUR</td>\n",
       "      <td>NaN</td>\n",
       "    </tr>\n",
       "  </tbody>\n",
       "</table>\n",
       "</div>"
      ],
      "text/plain": [
       "                                                  Title      Price Sales\n",
       "9512  Harry Potter Taza Taza Slytherin Cresta Hechic...  12,68 EUR   NaN\n",
       "9261  Harry Potter Calcetines Calendario de Adviento...  16,13 EUR   NaN\n",
       "8224  •Harry Potter •Toyllectible Fawkes •The Noble ...  29,73 EUR   NaN\n",
       "6515  Gorro gris Harry Potter 'Slytherin' talla únic...  15,82 EUR   NaN\n",
       "4657  Prendedor giratorio oficial universal para som...  28,82 EUR   NaN\n",
       "3973  Harry Potter Collar Pendientes Schnatz Inverso...  11,14 EUR   NaN\n",
       "4416  Manta de tapiz con flecos Warner Bros. Harry P...  20,69 EUR   NaN\n",
       "3011  \"Almohada de peluche Warner Brothers Harry Pot...  16,14 EUR   NaN\n",
       "6922  Harry Potter Deluxe Varita Rubíes 2017 - Funci...  13,83 EUR   NaN\n",
       "3641  Taza/taza de café vintage 2000 Hallmark Harry ...  17,23 EUR   NaN"
      ]
     },
     "execution_count": 1,
     "metadata": {},
     "output_type": "execute_result"
    }
   ],
   "source": [
    "# Importamos librerías\n",
    "import matplotlib.pyplot as plt\n",
    "import pandas as pd\n",
    "# Cargar datos\n",
    "datos_ebay = pd.read_csv(\"harrypotter_products_ebay.csv\")\n",
    "# Convertimos a dataframe\n",
    "datos_ebay = pd.DataFrame(datos_ebay)\n",
    "# Mostramos los datos\n",
    "datos_ebay.sample(10)"
   ]
  },
  {
   "cell_type": "code",
   "execution_count": 2,
   "metadata": {},
   "outputs": [
    {
     "name": "stdout",
     "output_type": "stream",
     "text": [
      "<class 'pandas.core.frame.DataFrame'>\n",
      "RangeIndex: 10356 entries, 0 to 10355\n",
      "Data columns (total 3 columns):\n",
      " #   Column  Non-Null Count  Dtype \n",
      "---  ------  --------------  ----- \n",
      " 0   Title   10020 non-null  object\n",
      " 1   Price   10020 non-null  object\n",
      " 2   Sales   7 non-null      object\n",
      "dtypes: object(3)\n",
      "memory usage: 242.8+ KB\n"
     ]
    }
   ],
   "source": [
    "datos_ebay.info()"
   ]
  },
  {
   "cell_type": "code",
   "execution_count": 3,
   "metadata": {},
   "outputs": [
    {
     "name": "stdout",
     "output_type": "stream",
     "text": [
      "<class 'pandas.core.frame.DataFrame'>\n",
      "RangeIndex: 10356 entries, 0 to 10355\n",
      "Data columns (total 3 columns):\n",
      " #   Column  Non-Null Count  Dtype \n",
      "---  ------  --------------  ----- \n",
      " 0   Title   10020 non-null  object\n",
      " 1   Price   10020 non-null  object\n",
      " 2   Sales   10356 non-null  object\n",
      "dtypes: object(3)\n",
      "memory usage: 242.8+ KB\n"
     ]
    }
   ],
   "source": [
    "# Rellenamos los valores nulos de la columna \"Sales\" con 0\n",
    "datos_ebay[\"Sales\"] = datos_ebay[\"Sales\"].fillna(0)\n",
    "datos_ebay.info()"
   ]
  },
  {
   "cell_type": "code",
   "execution_count": 4,
   "metadata": {},
   "outputs": [
    {
     "name": "stdout",
     "output_type": "stream",
     "text": [
      "<class 'pandas.core.frame.DataFrame'>\n",
      "Index: 10020 entries, 2 to 10353\n",
      "Data columns (total 3 columns):\n",
      " #   Column  Non-Null Count  Dtype \n",
      "---  ------  --------------  ----- \n",
      " 0   Title   10020 non-null  object\n",
      " 1   Price   10020 non-null  object\n",
      " 2   Sales   10020 non-null  object\n",
      "dtypes: object(3)\n",
      "memory usage: 313.1+ KB\n"
     ]
    }
   ],
   "source": [
    "# Eliminamos las filas con valores nulos\n",
    "datos_ebay = datos_ebay.dropna()\n",
    "datos_ebay.info()"
   ]
  },
  {
   "cell_type": "code",
   "execution_count": 5,
   "metadata": {},
   "outputs": [
    {
     "name": "stdout",
     "output_type": "stream",
     "text": [
      "Cantidad de productos:  10020\n"
     ]
    }
   ],
   "source": [
    "cantidad_productos = datos_ebay[\"Title\"].count()\n",
    "print(\"Cantidad de productos: \", cantidad_productos)"
   ]
  },
  {
   "cell_type": "code",
   "execution_count": 6,
   "metadata": {},
   "outputs": [
    {
     "data": {
      "text/plain": [
       "np.int64(168)"
      ]
     },
     "execution_count": 6,
     "metadata": {},
     "output_type": "execute_result"
    }
   ],
   "source": [
    "conteo = datos_ebay['Price'].str.contains('a').sum()\n",
    "conteo"
   ]
  },
  {
   "cell_type": "code",
   "execution_count": 7,
   "metadata": {},
   "outputs": [],
   "source": [
    "# Limpiamos las filas que tienen el precio como rango\n",
    "datos_ebay = datos_ebay[~datos_ebay['Price'].str.contains('a')]"
   ]
  },
  {
   "cell_type": "code",
   "execution_count": 8,
   "metadata": {},
   "outputs": [
    {
     "data": {
      "text/html": [
       "<div>\n",
       "<style scoped>\n",
       "    .dataframe tbody tr th:only-of-type {\n",
       "        vertical-align: middle;\n",
       "    }\n",
       "\n",
       "    .dataframe tbody tr th {\n",
       "        vertical-align: top;\n",
       "    }\n",
       "\n",
       "    .dataframe thead th {\n",
       "        text-align: right;\n",
       "    }\n",
       "</style>\n",
       "<table border=\"1\" class=\"dataframe\">\n",
       "  <thead>\n",
       "    <tr style=\"text-align: right;\">\n",
       "      <th></th>\n",
       "      <th>Title</th>\n",
       "      <th>Price</th>\n",
       "      <th>Sales</th>\n",
       "    </tr>\n",
       "  </thead>\n",
       "  <tbody>\n",
       "    <tr>\n",
       "      <th>2187</th>\n",
       "      <td>Harry Potter Fan Made inspirado direccional or...</td>\n",
       "      <td>41.61</td>\n",
       "      <td>0</td>\n",
       "    </tr>\n",
       "    <tr>\n",
       "      <th>3698</th>\n",
       "      <td>Suéter Harry Potter Slytherin Cuello en V Tall...</td>\n",
       "      <td>34.58</td>\n",
       "      <td>0</td>\n",
       "    </tr>\n",
       "    <tr>\n",
       "      <th>10281</th>\n",
       "      <td>Harry Potter Fantastic Beasts Nifler Pouch</td>\n",
       "      <td>56.47</td>\n",
       "      <td>0</td>\n",
       "    </tr>\n",
       "    <tr>\n",
       "      <th>3040</th>\n",
       "      <td>Harry Potter Hedwig Flying Owl Hogwarts Banner...</td>\n",
       "      <td>19.46</td>\n",
       "      <td>0</td>\n",
       "    </tr>\n",
       "    <tr>\n",
       "      <th>5038</th>\n",
       "      <td>Sudadera con capucha con cremallera Gryffindor...</td>\n",
       "      <td>56.48</td>\n",
       "      <td>0</td>\n",
       "    </tr>\n",
       "    <tr>\n",
       "      <th>8435</th>\n",
       "      <td>Insignia alfiler cresta de la casa de Harry Po...</td>\n",
       "      <td>8.62</td>\n",
       "      <td>0</td>\n",
       "    </tr>\n",
       "    <tr>\n",
       "      <th>3836</th>\n",
       "      <td>Peluche Harry Potter Mundo Mágico Just Play 9\"...</td>\n",
       "      <td>17.28</td>\n",
       "      <td>0</td>\n",
       "    </tr>\n",
       "    <tr>\n",
       "      <th>3230</th>\n",
       "      <td>Taza Escuela Hogwarts de Magia Magia Taza Mund...</td>\n",
       "      <td>11.52</td>\n",
       "      <td>0</td>\n",
       "    </tr>\n",
       "    <tr>\n",
       "      <th>8042</th>\n",
       "      <td>Paquete Hogwarts Vela Gryffindor, Cordón, 2 Di...</td>\n",
       "      <td>26.50</td>\n",
       "      <td>0</td>\n",
       "    </tr>\n",
       "    <tr>\n",
       "      <th>1522</th>\n",
       "      <td>Lego 71028 Minifig Figurine Série Harry Potter...</td>\n",
       "      <td>6.99</td>\n",
       "      <td>0</td>\n",
       "    </tr>\n",
       "    <tr>\n",
       "      <th>4097</th>\n",
       "      <td>Reloj en miniatura Harry Potter ~ Harry con ma...</td>\n",
       "      <td>17.28</td>\n",
       "      <td>0</td>\n",
       "    </tr>\n",
       "    <tr>\n",
       "      <th>8589</th>\n",
       "      <td>Varita de Harry Potter - para DIVISIÓN DE NO-M...</td>\n",
       "      <td>24.15</td>\n",
       "      <td>0</td>\n",
       "    </tr>\n",
       "    <tr>\n",
       "      <th>7312</th>\n",
       "      <td>Peluche Universal Studios Wizarding World of H...</td>\n",
       "      <td>21.89</td>\n",
       "      <td>0</td>\n",
       "    </tr>\n",
       "    <tr>\n",
       "      <th>2033</th>\n",
       "      <td>Collar iluminado Harry Potter Halloween</td>\n",
       "      <td>13.82</td>\n",
       "      <td>0</td>\n",
       "    </tr>\n",
       "    <tr>\n",
       "      <th>389</th>\n",
       "      <td>Réplica de Varita Hermione Granger Harry Potte...</td>\n",
       "      <td>10.47</td>\n",
       "      <td>0</td>\n",
       "    </tr>\n",
       "    <tr>\n",
       "      <th>7606</th>\n",
       "      <td>Cartera Hogwarts Alumni muy LIGERAMENTE usada</td>\n",
       "      <td>20.74</td>\n",
       "      <td>0</td>\n",
       "    </tr>\n",
       "    <tr>\n",
       "      <th>9999</th>\n",
       "      <td>Harry Potter Severus Snape soporte acrílico us...</td>\n",
       "      <td>180.96</td>\n",
       "      <td>0</td>\n",
       "    </tr>\n",
       "    <tr>\n",
       "      <th>5668</th>\n",
       "      <td>De Colección Harry Potter Sombrero Gorra Orden...</td>\n",
       "      <td>14.97</td>\n",
       "      <td>0</td>\n",
       "    </tr>\n",
       "    <tr>\n",
       "      <th>7028</th>\n",
       "      <td>\"Collar Harry Potter Hufflepuff escudo colgant...</td>\n",
       "      <td>11.53</td>\n",
       "      <td>0</td>\n",
       "    </tr>\n",
       "    <tr>\n",
       "      <th>2792</th>\n",
       "      <td>Harry Potter Hogwarts Soporte de pared Die-Cas...</td>\n",
       "      <td>40.29</td>\n",
       "      <td>0</td>\n",
       "    </tr>\n",
       "  </tbody>\n",
       "</table>\n",
       "</div>"
      ],
      "text/plain": [
       "                                                   Title   Price Sales\n",
       "2187   Harry Potter Fan Made inspirado direccional or...   41.61     0\n",
       "3698   Suéter Harry Potter Slytherin Cuello en V Tall...   34.58     0\n",
       "10281         Harry Potter Fantastic Beasts Nifler Pouch   56.47     0\n",
       "3040   Harry Potter Hedwig Flying Owl Hogwarts Banner...   19.46     0\n",
       "5038   Sudadera con capucha con cremallera Gryffindor...   56.48     0\n",
       "8435   Insignia alfiler cresta de la casa de Harry Po...    8.62     0\n",
       "3836   Peluche Harry Potter Mundo Mágico Just Play 9\"...   17.28     0\n",
       "3230   Taza Escuela Hogwarts de Magia Magia Taza Mund...   11.52     0\n",
       "8042   Paquete Hogwarts Vela Gryffindor, Cordón, 2 Di...   26.50     0\n",
       "1522   Lego 71028 Minifig Figurine Série Harry Potter...    6.99     0\n",
       "4097   Reloj en miniatura Harry Potter ~ Harry con ma...   17.28     0\n",
       "8589   Varita de Harry Potter - para DIVISIÓN DE NO-M...   24.15     0\n",
       "7312   Peluche Universal Studios Wizarding World of H...   21.89     0\n",
       "2033             Collar iluminado Harry Potter Halloween   13.82     0\n",
       "389    Réplica de Varita Hermione Granger Harry Potte...   10.47     0\n",
       "7606       Cartera Hogwarts Alumni muy LIGERAMENTE usada   20.74     0\n",
       "9999   Harry Potter Severus Snape soporte acrílico us...  180.96     0\n",
       "5668   De Colección Harry Potter Sombrero Gorra Orden...   14.97     0\n",
       "7028   \"Collar Harry Potter Hufflepuff escudo colgant...   11.53     0\n",
       "2792   Harry Potter Hogwarts Soporte de pared Die-Cas...   40.29     0"
      ]
     },
     "execution_count": 8,
     "metadata": {},
     "output_type": "execute_result"
    }
   ],
   "source": [
    "# Como todos los valores de precios son en euros, eliminamos la cadena \"EUR\" y convertimos a numérico\n",
    "datos_ebay[\"Price\"] = datos_ebay[\"Price\"].str.replace(\"EUR\", \"\")\n",
    "# También hay que reemplazar las comas por puntos para que pandas pueda leerlo\n",
    "datos_ebay[\"Price\"] = datos_ebay[\"Price\"].str.replace(\",\", \".\")\n",
    "#datos_ebay.rename(columns={\"Price\": \"Price_EUR\"}, inplace=True)\n",
    "# Quitamos los espacios en blanco\n",
    "datos_ebay[\"Price\"] = datos_ebay[\"Price\"].str.strip()\n",
    "datos_ebay[\"Price\"] = pd.to_numeric(datos_ebay[\"Price\"],errors =\"coerce\")\n",
    "datos_ebay.sample(20)"
   ]
  },
  {
   "cell_type": "code",
   "execution_count": 9,
   "metadata": {},
   "outputs": [],
   "source": [
    "precio_maximo = datos_ebay[\"Price\"].max()\n",
    "precio_minimo = datos_ebay[\"Price\"].min()\n",
    "rango_precios = precio_maximo - precio_minimo"
   ]
  },
  {
   "cell_type": "code",
   "execution_count": 10,
   "metadata": {},
   "outputs": [
    {
     "name": "stdout",
     "output_type": "stream",
     "text": [
      "Precio máximo:  857.39\n",
      "Precio mínimo:  0.94\n",
      "Rango de precios:  856.4499999999999\n"
     ]
    }
   ],
   "source": [
    "print(\"Precio máximo: \", precio_maximo)\n",
    "print(\"Precio mínimo: \", precio_minimo)\n",
    "print(\"Rango de precios: \", rango_precios)  "
   ]
  },
  {
   "cell_type": "code",
   "execution_count": 18,
   "metadata": {},
   "outputs": [
    {
     "data": {
      "text/plain": [
       "np.int64(523)"
      ]
     },
     "execution_count": 18,
     "metadata": {},
     "output_type": "execute_result"
    }
   ],
   "source": [
    "figuras = datos_ebay[\"Title\"].str.contains(\"figur\", case=False).sum()\n",
    "figuras"
   ]
  },
  {
   "cell_type": "code",
   "execution_count": 12,
   "metadata": {},
   "outputs": [
    {
     "data": {
      "text/plain": [
       "np.int64(190)"
      ]
     },
     "execution_count": 12,
     "metadata": {},
     "output_type": "execute_result"
    }
   ],
   "source": [
    "funkos = datos_ebay[\"Title\"].str.contains(\"funko\", case=False).sum()\n",
    "funkos"
   ]
  },
  {
   "cell_type": "code",
   "execution_count": 13,
   "metadata": {},
   "outputs": [
    {
     "data": {
      "text/plain": [
       "np.int64(626)"
      ]
     },
     "execution_count": 13,
     "metadata": {},
     "output_type": "execute_result"
    }
   ],
   "source": [
    "tazas = datos_ebay[\"Title\"].str.contains(\"taza\", case=False).sum()\n",
    "tazas"
   ]
  },
  {
   "cell_type": "code",
   "execution_count": 14,
   "metadata": {},
   "outputs": [
    {
     "data": {
      "text/plain": [
       "np.int64(37)"
      ]
     },
     "execution_count": 14,
     "metadata": {},
     "output_type": "execute_result"
    }
   ],
   "source": [
    "packs = datos_ebay[\"Title\"].str.contains(\"pack\", case=False).sum() \n",
    "packs"
   ]
  },
  {
   "cell_type": "code",
   "execution_count": 15,
   "metadata": {},
   "outputs": [
    {
     "data": {
      "text/plain": [
       "np.int64(529)"
      ]
     },
     "execution_count": 15,
     "metadata": {},
     "output_type": "execute_result"
    }
   ],
   "source": [
    "varitas = datos_ebay[\"Title\"].str.contains(\"varita\", case=False).sum()\n",
    "varitas"
   ]
  },
  {
   "cell_type": "code",
   "execution_count": 17,
   "metadata": {},
   "outputs": [
    {
     "data": {
      "text/plain": [
       "np.int64(145)"
      ]
     },
     "execution_count": 17,
     "metadata": {},
     "output_type": "execute_result"
    }
   ],
   "source": [
    "usados = datos_ebay[\"Title\"].str.contains(\"usad\", case=False).sum()\n",
    "usados"
   ]
  },
  {
   "cell_type": "code",
   "execution_count": 26,
   "metadata": {},
   "outputs": [
    {
     "data": {
      "text/plain": [
       "np.int64(1887)"
      ]
     },
     "execution_count": 26,
     "metadata": {},
     "output_type": "execute_result"
    }
   ],
   "source": [
    "nuevos = datos_ebay[\"Title\"].str.contains(\"nuev\", case=False).sum()\n",
    "nuevos"
   ]
  },
  {
   "cell_type": "code",
   "execution_count": 27,
   "metadata": {},
   "outputs": [
    {
     "data": {
      "text/html": [
       "<div>\n",
       "<style scoped>\n",
       "    .dataframe tbody tr th:only-of-type {\n",
       "        vertical-align: middle;\n",
       "    }\n",
       "\n",
       "    .dataframe tbody tr th {\n",
       "        vertical-align: top;\n",
       "    }\n",
       "\n",
       "    .dataframe thead th {\n",
       "        text-align: right;\n",
       "    }\n",
       "</style>\n",
       "<table border=\"1\" class=\"dataframe\">\n",
       "  <thead>\n",
       "    <tr style=\"text-align: right;\">\n",
       "      <th></th>\n",
       "      <th>Producto</th>\n",
       "      <th>Cantidad</th>\n",
       "    </tr>\n",
       "  </thead>\n",
       "  <tbody>\n",
       "    <tr>\n",
       "      <th>0</th>\n",
       "      <td>Figuras</td>\n",
       "      <td>523</td>\n",
       "    </tr>\n",
       "    <tr>\n",
       "      <th>1</th>\n",
       "      <td>Funkos</td>\n",
       "      <td>190</td>\n",
       "    </tr>\n",
       "    <tr>\n",
       "      <th>2</th>\n",
       "      <td>Tazas</td>\n",
       "      <td>626</td>\n",
       "    </tr>\n",
       "    <tr>\n",
       "      <th>3</th>\n",
       "      <td>Packs</td>\n",
       "      <td>37</td>\n",
       "    </tr>\n",
       "    <tr>\n",
       "      <th>4</th>\n",
       "      <td>Varitas</td>\n",
       "      <td>529</td>\n",
       "    </tr>\n",
       "    <tr>\n",
       "      <th>5</th>\n",
       "      <td>Usados</td>\n",
       "      <td>145</td>\n",
       "    </tr>\n",
       "    <tr>\n",
       "      <th>6</th>\n",
       "      <td>Nuevos</td>\n",
       "      <td>1887</td>\n",
       "    </tr>\n",
       "  </tbody>\n",
       "</table>\n",
       "</div>"
      ],
      "text/plain": [
       "  Producto  Cantidad\n",
       "0  Figuras       523\n",
       "1   Funkos       190\n",
       "2    Tazas       626\n",
       "3    Packs        37\n",
       "4  Varitas       529\n",
       "5   Usados       145\n",
       "6   Nuevos      1887"
      ]
     },
     "execution_count": 27,
     "metadata": {},
     "output_type": "execute_result"
    }
   ],
   "source": [
    "productos = {\"Figuras\": figuras, \"Funkos\": funkos, \"Tazas\": tazas, \"Packs\": packs, \"Varitas\": varitas, \"Usados\": usados, \"Nuevos\": nuevos}\n",
    "df_productos = pd.DataFrame.from_dict(productos, orient= \"index\", columns=['Cantidad'])\n",
    "df_productos.reset_index(inplace=True)\n",
    "df_productos.rename(columns={'index': 'Producto'}, inplace=True)\n",
    "df_productos"
   ]
  }
 ],
 "metadata": {
  "kernelspec": {
   "display_name": "Python 3",
   "language": "python",
   "name": "python3"
  },
  "language_info": {
   "codemirror_mode": {
    "name": "ipython",
    "version": 3
   },
   "file_extension": ".py",
   "mimetype": "text/x-python",
   "name": "python",
   "nbconvert_exporter": "python",
   "pygments_lexer": "ipython3",
   "version": "3.13.0"
  }
 },
 "nbformat": 4,
 "nbformat_minor": 2
}
